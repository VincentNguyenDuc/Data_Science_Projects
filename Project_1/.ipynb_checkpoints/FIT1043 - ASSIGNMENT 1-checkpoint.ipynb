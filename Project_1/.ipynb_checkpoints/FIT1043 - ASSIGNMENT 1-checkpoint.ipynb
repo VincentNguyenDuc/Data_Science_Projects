{
 "cells": [
  {
   "cell_type": "markdown",
   "id": "ede39e38",
   "metadata": {},
   "source": [
    "# Task A: Data Exploration and Auditing"
   ]
  },
  {
   "cell_type": "markdown",
   "id": "f6b8d7e9",
   "metadata": {},
   "source": [
    "## A1\n",
    "\n",
    "#### 1. There are 5 variables and 5792 data instances ( 5792 rows * 5 columns)\n"
   ]
  },
  {
   "cell_type": "markdown",
   "id": "a3f5a00d",
   "metadata": {},
   "source": [
    "# Hello\n"
   ]
  },
  {
   "cell_type": "markdown",
   "id": "6420d127",
   "metadata": {},
   "source": [
    "##  Hello"
   ]
  },
  {
   "cell_type": "code",
   "execution_count": 2,
   "id": "d3432d8f",
   "metadata": {
    "scrolled": true
   },
   "outputs": [
    {
     "ename": "FileNotFoundError",
     "evalue": "[Errno 2] No such file or directory: 'monthly_smartcard_replacements.csv'",
     "output_type": "error",
     "traceback": [
      "\u001b[1;31m---------------------------------------------------------------------------\u001b[0m",
      "\u001b[1;31mFileNotFoundError\u001b[0m                         Traceback (most recent call last)",
      "Input \u001b[1;32mIn [2]\u001b[0m, in \u001b[0;36m<cell line: 2>\u001b[1;34m()\u001b[0m\n\u001b[0;32m      1\u001b[0m \u001b[38;5;28;01mimport\u001b[39;00m \u001b[38;5;21;01mpandas\u001b[39;00m \u001b[38;5;28;01mas\u001b[39;00m \u001b[38;5;21;01mpd\u001b[39;00m\n\u001b[1;32m----> 2\u001b[0m data \u001b[38;5;241m=\u001b[39m \u001b[43mpd\u001b[49m\u001b[38;5;241;43m.\u001b[39;49m\u001b[43mread_csv\u001b[49m\u001b[43m(\u001b[49m\u001b[38;5;124;43m'\u001b[39;49m\u001b[38;5;124;43mmonthly_smartcard_replacements.csv\u001b[39;49m\u001b[38;5;124;43m'\u001b[39;49m\u001b[43m)\u001b[49m\n\u001b[0;32m      3\u001b[0m df \u001b[38;5;241m=\u001b[39m pd\u001b[38;5;241m.\u001b[39mDataFrame(data)\n\u001b[0;32m      4\u001b[0m df\u001b[38;5;241m.\u001b[39mrename(columns \u001b[38;5;241m=\u001b[39m {\u001b[38;5;124m'\u001b[39m\u001b[38;5;124mSmartcard.Type\u001b[39m\u001b[38;5;124m'\u001b[39m:\u001b[38;5;124m'\u001b[39m\u001b[38;5;124mSmartcard Type\u001b[39m\u001b[38;5;124m'\u001b[39m, \n\u001b[0;32m      5\u001b[0m                      \u001b[38;5;124m'\u001b[39m\u001b[38;5;124mAction.Reason\u001b[39m\u001b[38;5;124m'\u001b[39m:\u001b[38;5;124m'\u001b[39m\u001b[38;5;124mAction Reason\u001b[39m\u001b[38;5;124m'\u001b[39m, \n\u001b[0;32m      6\u001b[0m                      \u001b[38;5;124m'\u001b[39m\u001b[38;5;124mNumber.of.transactions\u001b[39m\u001b[38;5;124m'\u001b[39m:\u001b[38;5;124m'\u001b[39m\u001b[38;5;124mNumber of transactions\u001b[39m\u001b[38;5;124m'\u001b[39m}, inplace\u001b[38;5;241m=\u001b[39m\u001b[38;5;28;01mTrue\u001b[39;00m)\n",
      "File \u001b[1;32m~\\anaconda3\\lib\\site-packages\\pandas\\util\\_decorators.py:311\u001b[0m, in \u001b[0;36mdeprecate_nonkeyword_arguments.<locals>.decorate.<locals>.wrapper\u001b[1;34m(*args, **kwargs)\u001b[0m\n\u001b[0;32m    305\u001b[0m \u001b[38;5;28;01mif\u001b[39;00m \u001b[38;5;28mlen\u001b[39m(args) \u001b[38;5;241m>\u001b[39m num_allow_args:\n\u001b[0;32m    306\u001b[0m     warnings\u001b[38;5;241m.\u001b[39mwarn(\n\u001b[0;32m    307\u001b[0m         msg\u001b[38;5;241m.\u001b[39mformat(arguments\u001b[38;5;241m=\u001b[39marguments),\n\u001b[0;32m    308\u001b[0m         \u001b[38;5;167;01mFutureWarning\u001b[39;00m,\n\u001b[0;32m    309\u001b[0m         stacklevel\u001b[38;5;241m=\u001b[39mstacklevel,\n\u001b[0;32m    310\u001b[0m     )\n\u001b[1;32m--> 311\u001b[0m \u001b[38;5;28;01mreturn\u001b[39;00m func(\u001b[38;5;241m*\u001b[39margs, \u001b[38;5;241m*\u001b[39m\u001b[38;5;241m*\u001b[39mkwargs)\n",
      "File \u001b[1;32m~\\anaconda3\\lib\\site-packages\\pandas\\io\\parsers\\readers.py:680\u001b[0m, in \u001b[0;36mread_csv\u001b[1;34m(filepath_or_buffer, sep, delimiter, header, names, index_col, usecols, squeeze, prefix, mangle_dupe_cols, dtype, engine, converters, true_values, false_values, skipinitialspace, skiprows, skipfooter, nrows, na_values, keep_default_na, na_filter, verbose, skip_blank_lines, parse_dates, infer_datetime_format, keep_date_col, date_parser, dayfirst, cache_dates, iterator, chunksize, compression, thousands, decimal, lineterminator, quotechar, quoting, doublequote, escapechar, comment, encoding, encoding_errors, dialect, error_bad_lines, warn_bad_lines, on_bad_lines, delim_whitespace, low_memory, memory_map, float_precision, storage_options)\u001b[0m\n\u001b[0;32m    665\u001b[0m kwds_defaults \u001b[38;5;241m=\u001b[39m _refine_defaults_read(\n\u001b[0;32m    666\u001b[0m     dialect,\n\u001b[0;32m    667\u001b[0m     delimiter,\n\u001b[1;32m   (...)\u001b[0m\n\u001b[0;32m    676\u001b[0m     defaults\u001b[38;5;241m=\u001b[39m{\u001b[38;5;124m\"\u001b[39m\u001b[38;5;124mdelimiter\u001b[39m\u001b[38;5;124m\"\u001b[39m: \u001b[38;5;124m\"\u001b[39m\u001b[38;5;124m,\u001b[39m\u001b[38;5;124m\"\u001b[39m},\n\u001b[0;32m    677\u001b[0m )\n\u001b[0;32m    678\u001b[0m kwds\u001b[38;5;241m.\u001b[39mupdate(kwds_defaults)\n\u001b[1;32m--> 680\u001b[0m \u001b[38;5;28;01mreturn\u001b[39;00m \u001b[43m_read\u001b[49m\u001b[43m(\u001b[49m\u001b[43mfilepath_or_buffer\u001b[49m\u001b[43m,\u001b[49m\u001b[43m \u001b[49m\u001b[43mkwds\u001b[49m\u001b[43m)\u001b[49m\n",
      "File \u001b[1;32m~\\anaconda3\\lib\\site-packages\\pandas\\io\\parsers\\readers.py:575\u001b[0m, in \u001b[0;36m_read\u001b[1;34m(filepath_or_buffer, kwds)\u001b[0m\n\u001b[0;32m    572\u001b[0m _validate_names(kwds\u001b[38;5;241m.\u001b[39mget(\u001b[38;5;124m\"\u001b[39m\u001b[38;5;124mnames\u001b[39m\u001b[38;5;124m\"\u001b[39m, \u001b[38;5;28;01mNone\u001b[39;00m))\n\u001b[0;32m    574\u001b[0m \u001b[38;5;66;03m# Create the parser.\u001b[39;00m\n\u001b[1;32m--> 575\u001b[0m parser \u001b[38;5;241m=\u001b[39m TextFileReader(filepath_or_buffer, \u001b[38;5;241m*\u001b[39m\u001b[38;5;241m*\u001b[39mkwds)\n\u001b[0;32m    577\u001b[0m \u001b[38;5;28;01mif\u001b[39;00m chunksize \u001b[38;5;129;01mor\u001b[39;00m iterator:\n\u001b[0;32m    578\u001b[0m     \u001b[38;5;28;01mreturn\u001b[39;00m parser\n",
      "File \u001b[1;32m~\\anaconda3\\lib\\site-packages\\pandas\\io\\parsers\\readers.py:933\u001b[0m, in \u001b[0;36mTextFileReader.__init__\u001b[1;34m(self, f, engine, **kwds)\u001b[0m\n\u001b[0;32m    930\u001b[0m     \u001b[38;5;28mself\u001b[39m\u001b[38;5;241m.\u001b[39moptions[\u001b[38;5;124m\"\u001b[39m\u001b[38;5;124mhas_index_names\u001b[39m\u001b[38;5;124m\"\u001b[39m] \u001b[38;5;241m=\u001b[39m kwds[\u001b[38;5;124m\"\u001b[39m\u001b[38;5;124mhas_index_names\u001b[39m\u001b[38;5;124m\"\u001b[39m]\n\u001b[0;32m    932\u001b[0m \u001b[38;5;28mself\u001b[39m\u001b[38;5;241m.\u001b[39mhandles: IOHandles \u001b[38;5;241m|\u001b[39m \u001b[38;5;28;01mNone\u001b[39;00m \u001b[38;5;241m=\u001b[39m \u001b[38;5;28;01mNone\u001b[39;00m\n\u001b[1;32m--> 933\u001b[0m \u001b[38;5;28mself\u001b[39m\u001b[38;5;241m.\u001b[39m_engine \u001b[38;5;241m=\u001b[39m \u001b[38;5;28;43mself\u001b[39;49m\u001b[38;5;241;43m.\u001b[39;49m\u001b[43m_make_engine\u001b[49m\u001b[43m(\u001b[49m\u001b[43mf\u001b[49m\u001b[43m,\u001b[49m\u001b[43m \u001b[49m\u001b[38;5;28;43mself\u001b[39;49m\u001b[38;5;241;43m.\u001b[39;49m\u001b[43mengine\u001b[49m\u001b[43m)\u001b[49m\n",
      "File \u001b[1;32m~\\anaconda3\\lib\\site-packages\\pandas\\io\\parsers\\readers.py:1217\u001b[0m, in \u001b[0;36mTextFileReader._make_engine\u001b[1;34m(self, f, engine)\u001b[0m\n\u001b[0;32m   1213\u001b[0m     mode \u001b[38;5;241m=\u001b[39m \u001b[38;5;124m\"\u001b[39m\u001b[38;5;124mrb\u001b[39m\u001b[38;5;124m\"\u001b[39m\n\u001b[0;32m   1214\u001b[0m \u001b[38;5;66;03m# error: No overload variant of \"get_handle\" matches argument types\u001b[39;00m\n\u001b[0;32m   1215\u001b[0m \u001b[38;5;66;03m# \"Union[str, PathLike[str], ReadCsvBuffer[bytes], ReadCsvBuffer[str]]\"\u001b[39;00m\n\u001b[0;32m   1216\u001b[0m \u001b[38;5;66;03m# , \"str\", \"bool\", \"Any\", \"Any\", \"Any\", \"Any\", \"Any\"\u001b[39;00m\n\u001b[1;32m-> 1217\u001b[0m \u001b[38;5;28mself\u001b[39m\u001b[38;5;241m.\u001b[39mhandles \u001b[38;5;241m=\u001b[39m \u001b[43mget_handle\u001b[49m\u001b[43m(\u001b[49m\u001b[43m  \u001b[49m\u001b[38;5;66;43;03m# type: ignore[call-overload]\u001b[39;49;00m\n\u001b[0;32m   1218\u001b[0m \u001b[43m    \u001b[49m\u001b[43mf\u001b[49m\u001b[43m,\u001b[49m\n\u001b[0;32m   1219\u001b[0m \u001b[43m    \u001b[49m\u001b[43mmode\u001b[49m\u001b[43m,\u001b[49m\n\u001b[0;32m   1220\u001b[0m \u001b[43m    \u001b[49m\u001b[43mencoding\u001b[49m\u001b[38;5;241;43m=\u001b[39;49m\u001b[38;5;28;43mself\u001b[39;49m\u001b[38;5;241;43m.\u001b[39;49m\u001b[43moptions\u001b[49m\u001b[38;5;241;43m.\u001b[39;49m\u001b[43mget\u001b[49m\u001b[43m(\u001b[49m\u001b[38;5;124;43m\"\u001b[39;49m\u001b[38;5;124;43mencoding\u001b[39;49m\u001b[38;5;124;43m\"\u001b[39;49m\u001b[43m,\u001b[49m\u001b[43m \u001b[49m\u001b[38;5;28;43;01mNone\u001b[39;49;00m\u001b[43m)\u001b[49m\u001b[43m,\u001b[49m\n\u001b[0;32m   1221\u001b[0m \u001b[43m    \u001b[49m\u001b[43mcompression\u001b[49m\u001b[38;5;241;43m=\u001b[39;49m\u001b[38;5;28;43mself\u001b[39;49m\u001b[38;5;241;43m.\u001b[39;49m\u001b[43moptions\u001b[49m\u001b[38;5;241;43m.\u001b[39;49m\u001b[43mget\u001b[49m\u001b[43m(\u001b[49m\u001b[38;5;124;43m\"\u001b[39;49m\u001b[38;5;124;43mcompression\u001b[39;49m\u001b[38;5;124;43m\"\u001b[39;49m\u001b[43m,\u001b[49m\u001b[43m \u001b[49m\u001b[38;5;28;43;01mNone\u001b[39;49;00m\u001b[43m)\u001b[49m\u001b[43m,\u001b[49m\n\u001b[0;32m   1222\u001b[0m \u001b[43m    \u001b[49m\u001b[43mmemory_map\u001b[49m\u001b[38;5;241;43m=\u001b[39;49m\u001b[38;5;28;43mself\u001b[39;49m\u001b[38;5;241;43m.\u001b[39;49m\u001b[43moptions\u001b[49m\u001b[38;5;241;43m.\u001b[39;49m\u001b[43mget\u001b[49m\u001b[43m(\u001b[49m\u001b[38;5;124;43m\"\u001b[39;49m\u001b[38;5;124;43mmemory_map\u001b[39;49m\u001b[38;5;124;43m\"\u001b[39;49m\u001b[43m,\u001b[49m\u001b[43m \u001b[49m\u001b[38;5;28;43;01mFalse\u001b[39;49;00m\u001b[43m)\u001b[49m\u001b[43m,\u001b[49m\n\u001b[0;32m   1223\u001b[0m \u001b[43m    \u001b[49m\u001b[43mis_text\u001b[49m\u001b[38;5;241;43m=\u001b[39;49m\u001b[43mis_text\u001b[49m\u001b[43m,\u001b[49m\n\u001b[0;32m   1224\u001b[0m \u001b[43m    \u001b[49m\u001b[43merrors\u001b[49m\u001b[38;5;241;43m=\u001b[39;49m\u001b[38;5;28;43mself\u001b[39;49m\u001b[38;5;241;43m.\u001b[39;49m\u001b[43moptions\u001b[49m\u001b[38;5;241;43m.\u001b[39;49m\u001b[43mget\u001b[49m\u001b[43m(\u001b[49m\u001b[38;5;124;43m\"\u001b[39;49m\u001b[38;5;124;43mencoding_errors\u001b[39;49m\u001b[38;5;124;43m\"\u001b[39;49m\u001b[43m,\u001b[49m\u001b[43m \u001b[49m\u001b[38;5;124;43m\"\u001b[39;49m\u001b[38;5;124;43mstrict\u001b[39;49m\u001b[38;5;124;43m\"\u001b[39;49m\u001b[43m)\u001b[49m\u001b[43m,\u001b[49m\n\u001b[0;32m   1225\u001b[0m \u001b[43m    \u001b[49m\u001b[43mstorage_options\u001b[49m\u001b[38;5;241;43m=\u001b[39;49m\u001b[38;5;28;43mself\u001b[39;49m\u001b[38;5;241;43m.\u001b[39;49m\u001b[43moptions\u001b[49m\u001b[38;5;241;43m.\u001b[39;49m\u001b[43mget\u001b[49m\u001b[43m(\u001b[49m\u001b[38;5;124;43m\"\u001b[39;49m\u001b[38;5;124;43mstorage_options\u001b[39;49m\u001b[38;5;124;43m\"\u001b[39;49m\u001b[43m,\u001b[49m\u001b[43m \u001b[49m\u001b[38;5;28;43;01mNone\u001b[39;49;00m\u001b[43m)\u001b[49m\u001b[43m,\u001b[49m\n\u001b[0;32m   1226\u001b[0m \u001b[43m\u001b[49m\u001b[43m)\u001b[49m\n\u001b[0;32m   1227\u001b[0m \u001b[38;5;28;01massert\u001b[39;00m \u001b[38;5;28mself\u001b[39m\u001b[38;5;241m.\u001b[39mhandles \u001b[38;5;129;01mis\u001b[39;00m \u001b[38;5;129;01mnot\u001b[39;00m \u001b[38;5;28;01mNone\u001b[39;00m\n\u001b[0;32m   1228\u001b[0m f \u001b[38;5;241m=\u001b[39m \u001b[38;5;28mself\u001b[39m\u001b[38;5;241m.\u001b[39mhandles\u001b[38;5;241m.\u001b[39mhandle\n",
      "File \u001b[1;32m~\\anaconda3\\lib\\site-packages\\pandas\\io\\common.py:789\u001b[0m, in \u001b[0;36mget_handle\u001b[1;34m(path_or_buf, mode, encoding, compression, memory_map, is_text, errors, storage_options)\u001b[0m\n\u001b[0;32m    784\u001b[0m \u001b[38;5;28;01melif\u001b[39;00m \u001b[38;5;28misinstance\u001b[39m(handle, \u001b[38;5;28mstr\u001b[39m):\n\u001b[0;32m    785\u001b[0m     \u001b[38;5;66;03m# Check whether the filename is to be opened in binary mode.\u001b[39;00m\n\u001b[0;32m    786\u001b[0m     \u001b[38;5;66;03m# Binary mode does not support 'encoding' and 'newline'.\u001b[39;00m\n\u001b[0;32m    787\u001b[0m     \u001b[38;5;28;01mif\u001b[39;00m ioargs\u001b[38;5;241m.\u001b[39mencoding \u001b[38;5;129;01mand\u001b[39;00m \u001b[38;5;124m\"\u001b[39m\u001b[38;5;124mb\u001b[39m\u001b[38;5;124m\"\u001b[39m \u001b[38;5;129;01mnot\u001b[39;00m \u001b[38;5;129;01min\u001b[39;00m ioargs\u001b[38;5;241m.\u001b[39mmode:\n\u001b[0;32m    788\u001b[0m         \u001b[38;5;66;03m# Encoding\u001b[39;00m\n\u001b[1;32m--> 789\u001b[0m         handle \u001b[38;5;241m=\u001b[39m \u001b[38;5;28;43mopen\u001b[39;49m\u001b[43m(\u001b[49m\n\u001b[0;32m    790\u001b[0m \u001b[43m            \u001b[49m\u001b[43mhandle\u001b[49m\u001b[43m,\u001b[49m\n\u001b[0;32m    791\u001b[0m \u001b[43m            \u001b[49m\u001b[43mioargs\u001b[49m\u001b[38;5;241;43m.\u001b[39;49m\u001b[43mmode\u001b[49m\u001b[43m,\u001b[49m\n\u001b[0;32m    792\u001b[0m \u001b[43m            \u001b[49m\u001b[43mencoding\u001b[49m\u001b[38;5;241;43m=\u001b[39;49m\u001b[43mioargs\u001b[49m\u001b[38;5;241;43m.\u001b[39;49m\u001b[43mencoding\u001b[49m\u001b[43m,\u001b[49m\n\u001b[0;32m    793\u001b[0m \u001b[43m            \u001b[49m\u001b[43merrors\u001b[49m\u001b[38;5;241;43m=\u001b[39;49m\u001b[43merrors\u001b[49m\u001b[43m,\u001b[49m\n\u001b[0;32m    794\u001b[0m \u001b[43m            \u001b[49m\u001b[43mnewline\u001b[49m\u001b[38;5;241;43m=\u001b[39;49m\u001b[38;5;124;43m\"\u001b[39;49m\u001b[38;5;124;43m\"\u001b[39;49m\u001b[43m,\u001b[49m\n\u001b[0;32m    795\u001b[0m \u001b[43m        \u001b[49m\u001b[43m)\u001b[49m\n\u001b[0;32m    796\u001b[0m     \u001b[38;5;28;01melse\u001b[39;00m:\n\u001b[0;32m    797\u001b[0m         \u001b[38;5;66;03m# Binary mode\u001b[39;00m\n\u001b[0;32m    798\u001b[0m         handle \u001b[38;5;241m=\u001b[39m \u001b[38;5;28mopen\u001b[39m(handle, ioargs\u001b[38;5;241m.\u001b[39mmode)\n",
      "\u001b[1;31mFileNotFoundError\u001b[0m: [Errno 2] No such file or directory: 'monthly_smartcard_replacements.csv'"
     ]
    }
   ],
   "source": [
    "import pandas as pd\n",
    "data = pd.read_csv('monthly_smartcard_replacements.csv')\n",
    "df = pd.DataFrame(data)\n",
    "df.rename(columns = {'Smartcard.Type':'Smartcard Type', \n",
    "                     'Action.Reason':'Action Reason', \n",
    "                     'Number.of.transactions':'Number of transactions'}, inplace=True)\n",
    "df"
   ]
  },
  {
   "cell_type": "markdown",
   "id": "62e9d238",
   "metadata": {},
   "source": [
    "## A2\n",
    "#### There is no null value in any action of reason"
   ]
  },
  {
   "cell_type": "code",
   "execution_count": null,
   "id": "4c940381",
   "metadata": {},
   "outputs": [],
   "source": [
    "count_null = pd.isnull\n",
    "count_null = df[count_null].count().reset_index()\n",
    "count_null.columns.values[0] = 'Column'\n",
    "count_null.columns.values[1] = 'Number of null values'\n",
    "count_null"
   ]
  },
  {
   "cell_type": "markdown",
   "id": "a71875b7",
   "metadata": {},
   "source": [
    "## A3\n",
    "#### Data types for each column are:"
   ]
  },
  {
   "cell_type": "code",
   "execution_count": null,
   "id": "7ef12e2b",
   "metadata": {
    "scrolled": true
   },
   "outputs": [],
   "source": [
    "column_types = df.dtypes.reset_index()\n",
    "column_types.columns.values[0] = 'Column'\n",
    "column_types.columns.values[1] = 'Type'\n",
    "column_types"
   ]
  },
  {
   "cell_type": "markdown",
   "id": "0e8f19ed",
   "metadata": {},
   "source": [
    "## A4\n",
    "#### Convert column “Month” into datetime format\n"
   ]
  },
  {
   "cell_type": "code",
   "execution_count": null,
   "id": "9889e00e",
   "metadata": {
    "scrolled": true
   },
   "outputs": [],
   "source": [
    "df[\"Month\"] = pd.to_datetime(df[\"Month\"])\n",
    "df"
   ]
  },
  {
   "cell_type": "markdown",
   "id": "da8740b3",
   "metadata": {},
   "source": [
    "## A5\n",
    "#### Observation 1: The maximum value (which is 9097) is much higher than the rest of the values (vary between 1 and 84)\n",
    "\n",
    "#### Observation 2: Most of the values are around 845\n"
   ]
  },
  {
   "cell_type": "code",
   "execution_count": null,
   "id": "86d75e55",
   "metadata": {
    "scrolled": true
   },
   "outputs": [],
   "source": [
    "statistics = df[\"Number of transactions\"].describe().reset_index()\n",
    "statistics.columns.values[0] = 'Statistics' \n",
    "statistics"
   ]
  },
  {
   "cell_type": "markdown",
   "id": "a3983907",
   "metadata": {},
   "source": [
    "## A6\n",
    "\n",
    "#### 1. There are 4 different types of smartcard types. They are shown as below with their number of instances \n",
    "- Driver Licence Card: 1896\n",
    "- Photo Identification Card: 1631\n",
    "- Industry Authority Card: 1218\n",
    "- Marine Licence Ind Card: 1047"
   ]
  },
  {
   "cell_type": "code",
   "execution_count": null,
   "id": "cbd303fd",
   "metadata": {},
   "outputs": [],
   "source": [
    "unique_smartcard = df[\"Smartcard Type\"].nunique()\n",
    "unique_smartcard"
   ]
  },
  {
   "cell_type": "code",
   "execution_count": null,
   "id": "839bc149",
   "metadata": {},
   "outputs": [],
   "source": [
    "diff_smartcard_type = pd.DataFrame(df['Smartcard Type'].value_counts()).reset_index()\n",
    "diff_smartcard_type.columns.values[0] = 'Smartcard Type'\n",
    "diff_smartcard_type.columns.values[1] = 'Instances'\n",
    "diff_smartcard_type"
   ]
  },
  {
   "cell_type": "markdown",
   "id": "e75815d6",
   "metadata": {},
   "source": [
    "#### 2. Percentage of Driver Licence Card is 32.734807\n"
   ]
  },
  {
   "cell_type": "code",
   "execution_count": null,
   "id": "9f3bd344",
   "metadata": {},
   "outputs": [],
   "source": [
    "percentage_driver_licence = (df['Smartcard Type'].value_counts(normalize = True) * 100).reset_index()\n",
    "percentage_driver_licence.columns.values[0] = 'Smartcard Type'\n",
    "percentage_driver_licence.columns.values[1] = 'Percentage'\n",
    "percentage_driver_licence.loc[0]"
   ]
  },
  {
   "cell_type": "markdown",
   "id": "c78f3df2",
   "metadata": {},
   "source": [
    "## A7\n",
    "#### 1. The different reasons for smartcard replacements in the given data are shown as below (the number of instances are included)"
   ]
  },
  {
   "cell_type": "code",
   "execution_count": null,
   "id": "87a441e3",
   "metadata": {
    "scrolled": true
   },
   "outputs": [],
   "source": [
    "diff_reasons = df['Action Reason'].value_counts().reset_index()\n",
    "diff_reasons.columns.values[0] = 'Action Reason'\n",
    "diff_reasons.columns.values[1] = 'Instances'\n",
    "diff_reasons"
   ]
  },
  {
   "cell_type": "markdown",
   "id": "04014567",
   "metadata": {},
   "source": [
    "#### 2. The total number of months in which 100 or more smartcard replacements are reported due to being \"Lost\": 264"
   ]
  },
  {
   "cell_type": "code",
   "execution_count": null,
   "id": "6659c52e",
   "metadata": {},
   "outputs": [],
   "source": [
    "lost_value = df[df['Action Reason'] == 'Lost']\n",
    "lost_value[\"Month\"][lost_value[\"Number of transactions\"] >= 100].count()"
   ]
  },
  {
   "cell_type": "markdown",
   "id": "a00365d8",
   "metadata": {},
   "source": [
    "# Task B: Group Level Analysis and Visualisation"
   ]
  },
  {
   "cell_type": "markdown",
   "id": "c1ef4ace",
   "metadata": {},
   "source": [
    "## B1\n",
    "#### 1. Create a new column named 'Year' by extracting the year from the 'Month' column"
   ]
  },
  {
   "cell_type": "code",
   "execution_count": null,
   "id": "a7d1813c",
   "metadata": {
    "scrolled": true
   },
   "outputs": [],
   "source": [
    "df['Year'] = df['Month'].dt.year\n",
    "df"
   ]
  },
  {
   "cell_type": "markdown",
   "id": "a5320535",
   "metadata": {},
   "source": [
    "#### 2. Line plot showing total number of annual smartcard replacements (number of transactions) against year."
   ]
  },
  {
   "cell_type": "code",
   "execution_count": null,
   "id": "6b6adbab",
   "metadata": {},
   "outputs": [],
   "source": [
    "import matplotlib.pyplot as plt\n",
    "%matplotlib inline"
   ]
  },
  {
   "cell_type": "code",
   "execution_count": null,
   "id": "dea0423d",
   "metadata": {
    "scrolled": true
   },
   "outputs": [],
   "source": [
    "number_of_transactions_against_year = df.groupby(['Year']).sum()\n",
    "number_of_transactions_against_year\n",
    "plt.plot(number_of_transactions_against_year)\n",
    "plt.title(\"Total number of annual smartcard replacements against year\", weight='bold', size=14)\n",
    "plt.xlabel('Year', weight='bold', size=10)\n",
    "plt.ylabel('Annual numbers of transactions', weight='bold', size=10)\n",
    "plt.show()"
   ]
  },
  {
   "cell_type": "markdown",
   "id": "12005654",
   "metadata": {},
   "source": [
    "#### 3. Trend Observation:\n",
    "- Overall, the total number of annual smartcard replacements against year had an upward trend between 2010 and 2021. However, in 2022, there has been a significant decrease in the total numbers, which is different from previous years. \n",
    "- This phenomenon may be due to the fact that the year 2022 hasn’t ended yet, therefore resulting in the lack of record of smart card replacements in 2022 which significantly decrease the annual numbers of transactions of 2022"
   ]
  },
  {
   "cell_type": "markdown",
   "id": "85772f85",
   "metadata": {},
   "source": [
    "## B2"
   ]
  },
  {
   "cell_type": "markdown",
   "id": "9ae6406e",
   "metadata": {},
   "source": [
    "#### 1. Barchart showing the total number of transactions for each ‘Action.Reason’ using the available data\n"
   ]
  },
  {
   "cell_type": "code",
   "execution_count": null,
   "id": "8522aad5",
   "metadata": {},
   "outputs": [],
   "source": [
    "groupby_reason = df.groupby(['Action Reason'])['Number of transactions'].sum()\n",
    "bar_chart = groupby_reason.plot.barh()\n",
    "plt.title('Number of transactions according to reasons', weight='bold', size=18)\n",
    "plt.xlabel('Reasons', weight='bold', size=14)\n",
    "plt.ylabel('Number of transactions', weight='bold', size=14)\n",
    "plt.show()"
   ]
  },
  {
   "cell_type": "markdown",
   "id": "0ec10b9b",
   "metadata": {},
   "source": [
    "#### 2. Top three reasons for smart card replacement are: \n",
    "- Change Customer Details\n",
    "- Condition Change\n",
    "- Lost"
   ]
  },
  {
   "cell_type": "code",
   "execution_count": null,
   "id": "2162273e",
   "metadata": {
    "scrolled": true
   },
   "outputs": [],
   "source": [
    "groupby_reason=df.groupby(['Action Reason'])['Number of transactions'].sum(['Number of transactions']).sort_values()\n",
    "bar_chart = groupby_reason.plot.barh()\n",
    "plt.title('Number of transactions according to reasons', weight='bold', size=18)\n",
    "plt.xlabel('Reasons', weight='bold', size=14)\n",
    "plt.ylabel('Number of transactions', weight='bold', size=14)\n",
    "plt.show()\n"
   ]
  },
  {
   "cell_type": "markdown",
   "id": "9a3991d3",
   "metadata": {},
   "source": [
    "#### 3. Total number of transactions of which 'Action.Reason' is between 1000 and 2000:\n",
    "- Marine Licence Transition: 1822"
   ]
  },
  {
   "cell_type": "code",
   "execution_count": null,
   "id": "807189c5",
   "metadata": {
    "scrolled": true
   },
   "outputs": [],
   "source": [
    "groupby_reason = pd.DataFrame(groupby_reason)\n",
    "filt = (groupby_reason['Number of transactions'] >= 1000) & (groupby_reason['Number of transactions'] <= 2000)\n",
    "groupby_reason[filt]"
   ]
  },
  {
   "cell_type": "markdown",
   "id": "1e182d98",
   "metadata": {},
   "source": [
    "## B3"
   ]
  },
  {
   "cell_type": "markdown",
   "id": "46fa3f8a",
   "metadata": {},
   "source": [
    "#### 1. the annual number of transactions for each 'Action.Reason' over different years "
   ]
  },
  {
   "cell_type": "code",
   "execution_count": null,
   "id": "9f9d893d",
   "metadata": {},
   "outputs": [],
   "source": [
    "groupby_annual_reason = df.groupby(['Action Reason', 'Year'])['Number of transactions'].sum()\n",
    "groupby_annual_reason = pd.DataFrame(groupby_annual_reason)\n",
    "groupby_annual_reason"
   ]
  },
  {
   "cell_type": "markdown",
   "id": "d676b1a9",
   "metadata": {},
   "source": [
    "#### 2. The number of years that the number of annual transactions exceed 10000 for each action reason"
   ]
  },
  {
   "cell_type": "code",
   "execution_count": null,
   "id": "03bfe9fe",
   "metadata": {
    "scrolled": true
   },
   "outputs": [],
   "source": [
    "filt_exceed_10k = groupby_annual_reason[groupby_annual_reason['Number of transactions'] >= 10000]\n",
    "result = filt_exceed_10k.groupby(['Action Reason']).size().reset_index()\n",
    "result.columns.values[1] = 'Number of years'\n",
    "result"
   ]
  },
  {
   "cell_type": "markdown",
   "id": "55fea333",
   "metadata": {},
   "source": [
    "#### 3. Action reasons have at least one year with the number of annual transactions exceeding 10000 are:\n",
    "- Change Customer Details\n",
    "- Condition Change\n",
    "- Lost\n",
    "- Lost In Mail - lmu\n",
    "- Stolen"
   ]
  },
  {
   "cell_type": "markdown",
   "id": "981b20c4",
   "metadata": {},
   "source": [
    "#### 4. histogram to analyzing the distribution of the annual number of transactions per action reason as calculated in B3.1"
   ]
  },
  {
   "cell_type": "code",
   "execution_count": null,
   "id": "26271b41",
   "metadata": {
    "scrolled": true
   },
   "outputs": [],
   "source": [
    "new_df = groupby_annual_reason.reset_index()\n",
    "histogram = new_df['Number of transactions'].hist(by=new_df['Action Reason'], bins=25, figsize=(18,20))\n",
    "plt.suptitle(\"The distribution of the annual number of transactions per action reason\", weight='bold', size=25)\n",
    "plt.show()"
   ]
  },
  {
   "cell_type": "code",
   "execution_count": null,
   "id": "2f245923",
   "metadata": {
    "scrolled": true
   },
   "outputs": [],
   "source": [
    "histogram = new_df['Number of transactions'].hist(bins = 100, figsize=(10,8))\n",
    "histogram.set_title('The distribution of the annual number of transactions per action reason', weight='bold', size=20)\n",
    "histogram.set_xlabel('Number of transactions', weight='bold', size=16)\n",
    "histogram.set_ylabel('Number of years', weight='bold', size=16)\n",
    "plt.show()"
   ]
  },
  {
   "cell_type": "markdown",
   "id": "e4b8e4aa",
   "metadata": {},
   "source": [
    "#### 5. Observations and comment on the distribution:\n",
    "- Most of annual number of transactions per action reason are between 0 and 10000, except for Change Customer Details, Condition Change, Lost, Lost In Mail - lmu, and Stolen, which are exceeding 10000 in multiple years.\n"
   ]
  }
 ],
 "metadata": {
  "kernelspec": {
   "display_name": "Python 3 (ipykernel)",
   "language": "python",
   "name": "python3"
  },
  "language_info": {
   "codemirror_mode": {
    "name": "ipython",
    "version": 3
   },
   "file_extension": ".py",
   "mimetype": "text/x-python",
   "name": "python",
   "nbconvert_exporter": "python",
   "pygments_lexer": "ipython3",
   "version": "3.9.12"
  }
 },
 "nbformat": 4,
 "nbformat_minor": 5
}
